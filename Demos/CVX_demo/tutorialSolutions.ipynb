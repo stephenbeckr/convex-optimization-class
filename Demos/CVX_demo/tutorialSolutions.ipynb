{
  "nbformat": 4,
  "nbformat_minor": 0,
  "metadata": {
    "colab": {
      "name": "cvxpy_exercises.ipynb",
      "provenance": [],
      "include_colab_link": true
    },
    "kernelspec": {
      "name": "python3",
      "display_name": "Python 3"
    }
  },
  "cells": [
    {
      "cell_type": "markdown",
      "metadata": {
        "id": "view-in-github",
        "colab_type": "text"
      },
      "source": [
        "<a href=\"https://colab.research.google.com/github/stephenbeckr/convex-optimization-class/blob/main/Demos/CVX_demo/tutorialSolutions.ipynb\" target=\"_parent\"><img src=\"https://colab.research.google.com/assets/colab-badge.svg\" alt=\"Open In Colab\"/></a>"
      ]
    },
    {
      "cell_type": "markdown",
      "metadata": {
        "id": "dxUdk5JPmJXM"
      },
      "source": [
        "# Python solutions for `cvxpy` exercise\n",
        "\n",
        "You can see what's in the output of `prob` by doing `vars(prob.solver_stats)`\n",
        "\n",
        "The default solver depends on what kind of problem you're solving, but it's often `ECOS`.  See [advanced cvxpy settings](https://www.cvxpy.org/tutorial/advanced/index.html#setting-solver-options) for how to change accuracy options.  For `ECOS` the relevant options are `abstol` and `reltol` (defaults are 1e-8).\n",
        "\n",
        "This notebook is for [https://github.com/stephenbeckr/convex-optimization-class/tree/master/Demos/CVX_demo](https://github.com/stephenbeckr/convex-optimization-class/tree/master/Demos/CVX_demo)"
      ]
    },
    {
      "cell_type": "code",
      "metadata": {
        "colab": {
          "base_uri": "https://localhost:8080/"
        },
        "id": "8C8_3-FWjUEE",
        "outputId": "fd5b1dc9-eb9f-4285-fc1d-fb7aa081ef79"
      },
      "source": [
        "import numpy as np # np.array (and used internally in cvxpy)\n",
        "import cvxpy as cvx\n",
        "import sys, time\n",
        "\n",
        "print(\"Using CVX version\", cvx.__version__)\n",
        "print(\" and python version\", sys.version)\n",
        "\n",
        "A = np.array([[1, 6,11, 5,10, 4, 9, 3, 8, 2],\n",
        "              [2, 7, 1, 6,11, 5,10, 4, 9, 3],\n",
        "              [3, 8, 2, 7, 1, 6,11, 5,10, 4],\n",
        "              [4, 9, 3, 8, 2, 7, 1, 6,11, 5],\n",
        "              [5,10, 4, 9, 3, 8, 2, 7, 1, 6]])\n",
        "\n",
        "# or a slicker way to create A\n",
        "A = np.tile( np.arange(1,12), 5 )[:-5].reshape((5,-1),order='F')\n",
        "# Use np.tile( a, 5 ) or np.concatenate( (a,a,a,a,a) )\n",
        "# then remove last 5 elements (want 50 elements, not 55), then reshape:\n",
        "# \"Both the numpy.reshape() and numpy.resize() methods are used to change the\n",
        "#  size of a NumPy array. The difference between them is that the reshape()\n",
        "#  does not changes the original array but only returns the changed array,\n",
        "#  whereas the resize() method returns nothing and directly changes the original array.\"\n",
        "#\n",
        "# And either use Fortran order 'F' or theh default 'C' order but make it size (10,5) and then transpose that.\n",
        "\n",
        "\n",
        "print(A.shape)\n",
        "\n",
        "y = np.array([1,2,3,4,5])     # size (5,)  [preferred]\n",
        "# y = np.array([[1,2,3,4,5]]).T # size (5,1)  [may lead to bugs if you don't use y.flatten() later]\n",
        "print(y.shape)\n",
        "\n",
        "tol = 1e-12\n",
        "\n",
        "def print_status(prob, x):\n",
        "   print(\"Problem status: \", prob.status);\n",
        "   print(\"Used the solver: \",\n",
        "         prob.solver_stats.solver_name, \"with\",\n",
        "         prob.solver_stats.num_iters, \"iterations.\")\n",
        "   print(\"Optimal value:  \", prob.value)\n",
        "   print(\"Optimal var:\\n\", x.value)"
      ],
      "execution_count": 3,
      "outputs": [
        {
          "output_type": "stream",
          "name": "stdout",
          "text": [
            "Using CVX version 1.6.0\n",
            " and python version 3.11.11 (main, Dec  4 2024, 08:55:07) [GCC 11.4.0]\n",
            "(5, 10)\n",
            "(5,)\n"
          ]
        }
      ]
    },
    {
      "cell_type": "code",
      "source": [],
      "metadata": {
        "id": "VYfpSL4HgBDe"
      },
      "execution_count": null,
      "outputs": []
    },
    {
      "cell_type": "markdown",
      "metadata": {
        "id": "z-XOXRpzkbDN"
      },
      "source": [
        "## Problem 1"
      ]
    },
    {
      "cell_type": "code",
      "metadata": {
        "colab": {
          "base_uri": "https://localhost:8080/"
        },
        "id": "Yvz89_0XkUte",
        "outputId": "cbd95cc7-5340-42a2-8367-125fc38a908b"
      },
      "source": [
        "x = cvx.Variable(10) # column vector with 10 elements\n",
        "\n",
        "obj = cvx.Minimize(cvx.norm(x)) # cvx.norm defaults to the 2-norm\n",
        "#constraints = [cvx.norm(A*x-y) <= 0.1] # specify a list of constraints\n",
        "constraints = [cvx.norm(A@x-y) <= 0.1] # New syntax\n",
        "\n",
        "prob = cvx.Problem(obj, constraints)\n",
        "prob.solve()\n",
        "# prob.solve(abstol=tol,reltol=tol) # this used to work, depends on what the default solver is\n",
        "\n",
        "print_status(prob, x)"
      ],
      "execution_count": 5,
      "outputs": [
        {
          "output_type": "stream",
          "name": "stdout",
          "text": [
            "Problem status:  optimal\n",
            "Used the solver:  CLARABEL with 7 iterations.\n",
            "Optimal value:   0.2942164969709008\n",
            "Optimal var:\n",
            " [ 0.08864839  0.1397823  -0.03834094  0.12955552 -0.04299356  0.11932874\n",
            " -0.04291282  0.10910196 -0.03608625  0.09887517]\n"
          ]
        }
      ]
    },
    {
      "cell_type": "markdown",
      "metadata": {
        "id": "fTemw-9hkhSw"
      },
      "source": [
        "## Problem 2"
      ]
    },
    {
      "cell_type": "code",
      "metadata": {
        "colab": {
          "base_uri": "https://localhost:8080/"
        },
        "id": "vsHsYCmmkd8c",
        "outputId": "6ea2eb21-ab12-431d-c490-cfc49a22fcb0"
      },
      "source": [
        "x = cvx.Variable(10)\n",
        "\n",
        "obj = cvx.Minimize(cvx.norm(x)**2) # cvxpy objects implement the standard python ops\n",
        "constraints = [cvx.norm(A@x-y) <= 0.1]\n",
        "\n",
        "prob = cvx.Problem(obj, constraints)\n",
        "prob.solve()#abstol=tol,reltol=tol)\n",
        "\n",
        "print_status(prob, x)"
      ],
      "execution_count": 6,
      "outputs": [
        {
          "output_type": "stream",
          "name": "stdout",
          "text": [
            "Problem status:  optimal\n",
            "Used the solver:  CLARABEL with 8 iterations.\n",
            "Optimal value:   0.08656333586620392\n",
            "Optimal var:\n",
            " [ 0.08864834  0.13978235 -0.03833756  0.12955555 -0.04299696  0.11932875\n",
            " -0.04291652  0.10910194 -0.03608115  0.09887514]\n"
          ]
        }
      ]
    },
    {
      "cell_type": "markdown",
      "metadata": {
        "id": "T5uIve4Eki5m"
      },
      "source": [
        "## Problem 3"
      ]
    },
    {
      "cell_type": "code",
      "metadata": {
        "colab": {
          "base_uri": "https://localhost:8080/"
        },
        "id": "VBuF8BzLkjpb",
        "outputId": "15b632c2-cea6-4c8e-800f-1ac20664fc87"
      },
      "source": [
        "x = cvx.Variable(10)\n",
        "\n",
        "obj = cvx.Minimize(cvx.norm(x, p=1))\n",
        "constraints = [cvx.norm(A@x-y) <= 0.1]\n",
        "\n",
        "prob = cvx.Problem(obj, constraints)\n",
        "prob.solve()#abstol=tol,reltol=tol)\n",
        "\n",
        "print_status(prob, x)"
      ],
      "execution_count": 7,
      "outputs": [
        {
          "output_type": "stream",
          "name": "stdout",
          "text": [
            "Problem status:  optimal\n",
            "Used the solver:  CLARABEL with 7 iterations.\n",
            "Optimal value:   0.7876692205253679\n",
            "Optimal var:\n",
            " [ 8.31157556e-10  5.51546139e-01 -5.62018042e-02  9.98730289e-09\n",
            " -6.22342246e-02  2.34742979e-09 -6.22342071e-02  1.25338157e-09\n",
            " -5.54528305e-02  9.61489775e-10]\n"
          ]
        }
      ]
    },
    {
      "cell_type": "markdown",
      "metadata": {
        "id": "jsalednzkkGm"
      },
      "source": [
        "## Problem 4"
      ]
    },
    {
      "cell_type": "code",
      "metadata": {
        "colab": {
          "base_uri": "https://localhost:8080/"
        },
        "id": "12VOGeGikk8i",
        "outputId": "ddca75ae-8e9f-49c1-b343-fd2da7d26aea"
      },
      "source": [
        "def get_problem1_dual_value():\n",
        "  obj = cvx.Minimize(cvx.norm(x))\n",
        "  constraints = [cvx.norm(A@x-y) <= 0.1]\n",
        "\n",
        "  prob = cvx.Problem(obj, constraints)\n",
        "  prob.solve()#abstol=tol,reltol=tol)\n",
        "\n",
        "  return constraints[0].dual_value\n",
        "\n",
        "x = cvx.Variable(10)\n",
        "\n",
        "# resolve problem 1 and return dual value for the constraint\n",
        "l = get_problem1_dual_value()\n",
        "print(\"dual variable: \", l)\n",
        "\n",
        "obj = cvx.Minimize(cvx.norm(x) + l*cvx.norm(A@x-y))\n",
        "\n",
        "prob = cvx.Problem(obj)\n",
        "prob.solve()#abstol=tol,reltol=tol)\n",
        "\n",
        "# note that the solution is the same, but the optimal value is different,\n",
        "# since for problem 1 we form the Lagrangian \\|x\\|_2 + \\lambda(\\|Ax-y\\|_2-0.1)\n",
        "print_status(prob, x)\n",
        "\n",
        "# the optimal value for problem 1 should be\n",
        "print(\"problem 1 optimal value: \", prob.value - 0.1*l)"
      ],
      "execution_count": 9,
      "outputs": [
        {
          "output_type": "stream",
          "name": "stdout",
          "text": [
            "dual variable:  0.07086818142507507\n",
            "Problem status:  optimal\n",
            "Used the solver:  CLARABEL with 9 iterations.\n",
            "Optimal value:   0.3013032949384033\n",
            "Optimal var:\n",
            " [ 0.08865406  0.13978924 -0.03834808  0.1295622  -0.04299771  0.11933517\n",
            " -0.04291869  0.10910813 -0.03609731  0.0988811 ]\n",
            "problem 1 optimal value:  0.2942164767958958\n"
          ]
        }
      ]
    },
    {
      "cell_type": "markdown",
      "metadata": {
        "id": "T2yYxSGQklW6"
      },
      "source": [
        "## Problem 5"
      ]
    },
    {
      "cell_type": "code",
      "metadata": {
        "colab": {
          "base_uri": "https://localhost:8080/"
        },
        "id": "qeMGApcukl_T",
        "outputId": "79de2432-af67-4ece-dc2d-0ab9ef9d8a19"
      },
      "source": [
        "# x = cvx.Variable(5)  # we need to make this an explicit column vector\n",
        "x = cvx.Variable((5,1))\n",
        "ones = np.ones((10,1))\n",
        "\n",
        "obj = cvx.Minimize(sum(cvx.norm(A-x@ones.T, axis=0))) # cvx.norm behaves like np.linalg.norm\n",
        "\n",
        "prob = cvx.Problem(obj)\n",
        "prob.solve()#abstol=tol,reltol=tol)\n",
        "\n",
        "print_status(prob, x)"
      ],
      "execution_count": 10,
      "outputs": [
        {
          "output_type": "stream",
          "name": "stdout",
          "text": [
            "Problem status:  optimal\n",
            "Used the solver:  CLARABEL with 10 iterations.\n",
            "Optimal value:   63.955138722823264\n",
            "Optimal var:\n",
            " [[4.53780497]\n",
            " [5.05919913]\n",
            " [5.64349739]\n",
            " [6.2352254 ]\n",
            " [6.78779717]]\n"
          ]
        }
      ]
    },
    {
      "cell_type": "markdown",
      "metadata": {
        "id": "XnIKl53DkmhS"
      },
      "source": [
        "## Problem 6"
      ]
    },
    {
      "cell_type": "code",
      "metadata": {
        "colab": {
          "base_uri": "https://localhost:8080/"
        },
        "id": "my4pO3nzknRs",
        "outputId": "913053ba-152d-4ae4-d3e0-d125508e553c"
      },
      "source": [
        "x = cvx.Variable((5,1)) # again, be careful here\n",
        "ones = np.ones((10,1))\n",
        "\n",
        "obj = cvx.Minimize(cvx.norm(A-x@ones.T))\n",
        "\n",
        "prob = cvx.Problem(obj)\n",
        "# ECOS solver won't solve this kind of thing. SCS is the new default\n",
        "prob.solve(verbose=False,eps=tol) # ~1e-7 duality gap, but CVXOPT gets a singular KKT system\n",
        "print_status(prob, x)\n",
        "prob.solve(verbose=False, solver='CVXOPT', kktsolver='robust')\n",
        "print_status(prob, x)"
      ],
      "execution_count": 11,
      "outputs": [
        {
          "output_type": "stream",
          "name": "stdout",
          "text": [
            "Problem status:  optimal\n",
            "Used the solver:  SCS with 250 iterations.\n",
            "Optimal value:   14.392200222565954\n",
            "Optimal var:\n",
            " [[5.90000493]\n",
            " [5.80000174]\n",
            " [5.7000011 ]\n",
            " [5.60000385]\n",
            " [5.5000082 ]]\n",
            "Problem status:  optimal\n",
            "Used the solver:  CVXOPT with None iterations.\n",
            "Optimal value:   14.392200222565954\n",
            "Optimal var:\n",
            " [[5.9]\n",
            " [5.8]\n",
            " [5.7]\n",
            " [5.6]\n",
            " [5.5]]\n"
          ]
        }
      ]
    },
    {
      "cell_type": "markdown",
      "metadata": {
        "id": "7vZ7N_Dtknot"
      },
      "source": [
        "## Problem 7"
      ]
    },
    {
      "cell_type": "code",
      "metadata": {
        "colab": {
          "base_uri": "https://localhost:8080/"
        },
        "id": "1v3aO2dZkoX8",
        "outputId": "846a4fc3-aab6-44b9-8d3d-491d3af4452e"
      },
      "source": [
        "# X = cvx.Variable(5,10) # old syntax\n",
        "X = cvx.Variable((5,10))\n",
        "\n",
        "obj = cvx.Minimize(cvx.norm(X-A, 'fro'))\n",
        "constraints = [ np.ones((5,)).T@X@np.ones((10,)) == 1. ]\n",
        "\n",
        "prob = cvx.Problem(obj, constraints)\n",
        "prob.solve()\n",
        "\n",
        "print_status(prob, X)"
      ],
      "execution_count": 12,
      "outputs": [
        {
          "output_type": "stream",
          "name": "stdout",
          "text": [
            "Problem status:  optimal\n",
            "Used the solver:  CLARABEL with 5 iterations.\n",
            "Optimal value:   40.163665171395905\n",
            "Optimal var:\n",
            " [[-4.68  0.32  5.32 -0.68  4.32 -1.68  3.32 -2.68  2.32 -3.68]\n",
            " [-3.68  1.32 -4.68  0.32  5.32 -0.68  4.32 -1.68  3.32 -2.68]\n",
            " [-2.68  2.32 -3.68  1.32 -4.68  0.32  5.32 -0.68  4.32 -1.68]\n",
            " [-1.68  3.32 -2.68  2.32 -3.68  1.32 -4.68  0.32  5.32 -0.68]\n",
            " [-0.68  4.32 -1.68  3.32 -2.68  2.32 -3.68  1.32 -4.68  0.32]]\n"
          ]
        }
      ]
    },
    {
      "cell_type": "markdown",
      "metadata": {
        "id": "yzTu84MvkowG"
      },
      "source": [
        "## Problem 8"
      ]
    },
    {
      "cell_type": "code",
      "metadata": {
        "colab": {
          "base_uri": "https://localhost:8080/"
        },
        "id": "BaTkkpU-kpeU",
        "outputId": "65abe480-1691-4389-ec16-18273c5b7872"
      },
      "source": [
        "B = A[:,0:5]\n",
        "X = cvx.Variable((5,5)) # could use Semidef or Symmetric here instead\n",
        "\n",
        "obj = cvx.Minimize(cvx.norm(X-B, 'fro'))\n",
        "constraints = [ X == X.T, X >> 0 ] # X is PSD\n",
        "\n",
        "prob = cvx.Problem(obj, constraints)\n",
        "prob.solve()\n",
        "\n",
        "print_status(prob, X)"
      ],
      "execution_count": 13,
      "outputs": [
        {
          "output_type": "stream",
          "name": "stdout",
          "text": [
            "Problem status:  optimal\n",
            "Used the solver:  SCS with 50 iterations.\n",
            "Optimal value:   14.435946533119205\n",
            "Optimal var:\n",
            " [[4.64375748 5.21368245 4.26848539 4.75864117 4.86465025]\n",
            " [5.21368243 9.09234036 4.13923569 7.10383591 7.80302294]\n",
            " [4.26848537 4.13923571 4.22624558 4.64923409 3.88386332]\n",
            " [4.75864117 7.10383592 4.64923408 8.15616309 5.83270695]\n",
            " [4.86465023 7.80302294 3.88386333 5.83270697 6.8664761 ]]\n"
          ]
        }
      ]
    },
    {
      "cell_type": "markdown",
      "source": [
        "## Problem 9"
      ],
      "metadata": {
        "id": "9Kq0G9A5XLoc"
      }
    },
    {
      "cell_type": "code",
      "source": [
        "print('Rerun Problem 1 without parameterizing ...')\n",
        "x = cvx.Variable(10)\n",
        "obj = cvx.Minimize(cvx.norm(x))\n",
        "constraints = [cvx.norm(A@x - y) <= 0.1]\n",
        "prob = cvx.Problem(obj, constraints)\n",
        "t = time.time()\n",
        "prob.solve()\n",
        "elapsed = time.time() - t\n",
        "print(f\"  Elapsed time: {elapsed} seconds.\")\n",
        "print('Now parameterize y ...')\n",
        "b = cvx.Parameter(5)\n",
        "obj = cvx.Minimize(cvx.norm(x))\n",
        "constraints = [cvx.norm(A@x - b) <= 0.1]\n",
        "prob = cvx.Problem(obj, constraints)\n",
        "\n",
        "elapsed = 0.\n",
        "for i in range(10):\n",
        "  b.value = np.random.rand(5)\n",
        "  t = time.time()\n",
        "  prob.solve()\n",
        "  elapsed += time.time() - t\n",
        "print(f\"  Avg elapsed time: {elapsed} seconds.\")"
      ],
      "metadata": {
        "id": "GczkgFMEXMwR",
        "outputId": "bab45f8d-0e3a-45ba-e275-e2c931b93102",
        "colab": {
          "base_uri": "https://localhost:8080/"
        }
      },
      "execution_count": 18,
      "outputs": [
        {
          "output_type": "stream",
          "name": "stdout",
          "text": [
            "Rerun Problem 1 without parameterizing ...\n",
            "  Elapsed time: 0.009446144104003906 seconds.\n",
            "Now parameterize y ...\n",
            "  Avg elapsed time: 0.023536205291748047 seconds.\n"
          ]
        }
      ]
    },
    {
      "cell_type": "code",
      "source": [],
      "metadata": {
        "id": "a1Sk7nYsXpvv"
      },
      "execution_count": null,
      "outputs": []
    }
  ]
}