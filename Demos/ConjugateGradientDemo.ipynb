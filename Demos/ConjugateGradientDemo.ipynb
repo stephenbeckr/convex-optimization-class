{
  "nbformat": 4,
  "nbformat_minor": 0,
  "metadata": {
    "colab": {
      "name": "ConjugateGradientDemo.ipynb",
      "provenance": [],
      "include_colab_link": true
    },
    "kernelspec": {
      "name": "python3",
      "display_name": "Python 3"
    },
    "language_info": {
      "name": "python"
    }
  },
  "cells": [
    {
      "cell_type": "markdown",
      "metadata": {
        "id": "view-in-github",
        "colab_type": "text"
      },
      "source": [
        "<a href=\"https://colab.research.google.com/github/stephenbeckr/convex-optimization-class/blob/main/Demos/ConjugateGradientDemo.ipynb\" target=\"_parent\"><img src=\"https://colab.research.google.com/assets/colab-badge.svg\" alt=\"Open In Colab\"/></a>"
      ]
    },
    {
      "cell_type": "markdown",
      "metadata": {
        "id": "TzW6NAQhkG47"
      },
      "source": [
        "# Conjugate Gradient\n",
        "... and related Krylov subspace methods\n",
        "\n",
        "For solving $Ax=b$ and related problems (e.g., least-squares).  Use Krylov subspace methods if all of the following criteria are met:\n",
        "1. $A$ is very large (let $A$ be $n\\times n$)\n",
        "2. The multiply $Ax$ can be done faster than $O(n^2)$, e.g.\n",
        "  - $A$ is very sparse\n",
        "  - $A$ is from a fast operator, like a FFT\n",
        "3. $A$ is somewhat well-conditioned, and/or you don't need too much accuracy\n",
        "\n",
        "Just how large, or how well-conditioned, or how sparse depends, and there's no simple answer (other than just try it)\n",
        "\n",
        "APPM 5630 Advanced Convex Optimization, Spring 2025, Becker\n",
        "\n",
        "Note: in scipy, see [`scipy.sparse.linalg`](https://docs.scipy.org/doc/scipy/reference/sparse.linalg.html) to access Krylov solvers, even if your matrix isn't sparse (in that case, use the `LinearOperator` class)\n",
        "- in practice, a main issue is finding good **preconditioners**\n",
        "- if you want to solve a quadratic problem, do **not** apply CG to the normal equations (mathematically, this is fine, as then the quadratic term is symmetric positive definite). Use something like `lsqr` or `lsmr` or [`cgls`](https://web.stanford.edu/group/SOL/software/cgls/) which are designed to solve this problem and are mathematically equivalent (but do numerical tricks to make them more stable for ill-conditioned matrices)"
      ]
    },
    {
      "cell_type": "code",
      "metadata": {
        "id": "4GhhaeVOdh-1"
      },
      "source": [
        "import numpy as np\n",
        "import scipy.sparse as sps\n",
        "import scipy.sparse.linalg\n",
        "import scipy.linalg as sla\n",
        "from numpy.linalg import norm\n",
        "import time"
      ],
      "execution_count": 1,
      "outputs": []
    },
    {
      "cell_type": "markdown",
      "source": [
        "Create a sparse $10\\times 10$ matrix"
      ],
      "metadata": {
        "id": "-aYTSTNIAZt1"
      }
    },
    {
      "cell_type": "code",
      "metadata": {
        "colab": {
          "base_uri": "https://localhost:8080/"
        },
        "id": "YKl0JhHmeC51",
        "outputId": "a10e3adc-f194-40c3-c249-c0e8a020d30c"
      },
      "source": [
        "n   = int(1e1)\n",
        "\n",
        "rng   = np.random.default_rng(1)\n",
        "# Make sure A is invertrible by adding identity to it\n",
        "A   = sps.random(n,n,density=0.1,format='csr',random_state=rng) + .1*sps.eye(n)\n",
        "# A   = sps.random(n,n,density=0.1,format='csr') + .01*sps.eye(n) # worst conditioned, LSQR/CG struggles\n",
        "b   = rng.normal(size=(n,1))\n",
        "\n",
        "print(f'condition number is {np.linalg.cond( A.toarray() ):.1f}' )\n"
      ],
      "execution_count": 2,
      "outputs": [
        {
          "output_type": "stream",
          "name": "stdout",
          "text": [
            "condition number is 211.6\n"
          ]
        }
      ]
    },
    {
      "cell_type": "code",
      "metadata": {
        "colab": {
          "base_uri": "https://localhost:8080/"
        },
        "id": "uExB8e1jeJED",
        "outputId": "079fa3c2-b779-4ee5-b7c5-ebaea4327b46"
      },
      "source": [
        "A"
      ],
      "execution_count": 3,
      "outputs": [
        {
          "output_type": "execute_result",
          "data": {
            "text/plain": [
              "<Compressed Sparse Row sparse matrix of dtype 'float64'\n",
              "\twith 20 stored elements and shape (10, 10)>"
            ]
          },
          "metadata": {},
          "execution_count": 3
        }
      ]
    },
    {
      "cell_type": "code",
      "metadata": {
        "colab": {
          "base_uri": "https://localhost:8080/"
        },
        "id": "3auEcJdreLEq",
        "outputId": "f6fece0a-f05f-4968-b5b7-64a0796cff25"
      },
      "source": [
        "with np.printoptions(precision=3, suppress=True):\n",
        "  print( A.toarray() )"
      ],
      "execution_count": 4,
      "outputs": [
        {
          "output_type": "stream",
          "name": "stdout",
          "text": [
            "[[0.1   0.    0.    0.    0.    0.    0.    0.403 0.    0.   ]\n",
            " [0.    0.1   0.    0.754 0.    0.    0.    0.    0.    0.   ]\n",
            " [0.    0.    0.1   0.    0.    0.    0.    0.    0.    0.303]\n",
            " [0.788 0.134 0.    0.1   0.538 0.    0.    0.    0.    0.   ]\n",
            " [0.    0.    0.262 0.    0.1   0.    0.    0.    0.    0.   ]\n",
            " [0.    0.    0.    0.    0.    0.1   0.    0.    0.    0.   ]\n",
            " [0.    0.    0.    0.    0.    0.    0.1   0.    0.    0.   ]\n",
            " [0.    0.    0.    0.    0.453 0.    0.    0.1   0.    0.   ]\n",
            " [0.    0.    0.    0.    0.    0.    0.    0.    0.1   0.   ]\n",
            " [0.    0.    0.    0.    0.    0.    0.    0.33  0.203 0.1  ]]\n"
          ]
        }
      ]
    },
    {
      "cell_type": "markdown",
      "source": [
        "### Get a reference solution using \"direct\" methods\n",
        "Either explicitly convert $A$ to a dense (standard) matrix type and use standard linear algebra (e.g., LU factorization / Gaussian Elimination), or use the sparse solvers (which do a sparse version of Gaussian Elimination, trying to minimize \"fill-in\").  Both should be as accurate as we can do in floating point arithmetic..."
      ],
      "metadata": {
        "id": "wi50dJxI_n3m"
      }
    },
    {
      "cell_type": "code",
      "metadata": {
        "colab": {
          "base_uri": "https://localhost:8080/"
        },
        "id": "fuiyWxzteSna",
        "outputId": "7af70254-b5ff-4b1a-fa3e-98ef1598166d"
      },
      "source": [
        "x  = sla.solve(A.toarray(),b) # Dense solve\n",
        "x2 = sps.linalg.spsolve(A,b)   # Direct solve, taking advantage of sparsity\n",
        "print(f\"Discrepancy in the two solutions is {norm(x.ravel()-x2.ravel()):.2e}\")"
      ],
      "execution_count": 7,
      "outputs": [
        {
          "output_type": "stream",
          "name": "stdout",
          "text": [
            "Discrepancy in the two solutions is 2.52e-15\n",
            "<class 'numpy.ndarray'> <class 'numpy.ndarray'>\n"
          ]
        }
      ]
    },
    {
      "cell_type": "markdown",
      "source": [
        "### Now compare a reference solution to a Krylov subspace method\n",
        "We don't use \"CG\" (conjugate gradients) exactly, since that's for symmetric positive definite systems, but we'll use similar methods (all **Krylov subspace** methods) to illustrate the same point"
      ],
      "metadata": {
        "id": "n0MSvI5-_-ak"
      }
    },
    {
      "cell_type": "code",
      "source": [
        "x = sla.solve(A.toarray(),b) # Dense solve, reference solution\n",
        "# xKrylov, info = sps.linalg.minres(A,b,maxiter=1000) # only if A is symmetric\n",
        "xKrylov = sps.linalg.lsqr(A,b)[0]\n",
        "print(f\"Discrepancy in the two solutions is {norm(x.ravel()-xKrylov.ravel()):.2e}\")\n",
        "\n",
        "# If it's ill-conditioned, the two \"x\" may not be similar, but check\n",
        "#  that the residual is small:\n",
        "print(f\"Residual ||Ax-b|| for dense solve is {norm(A@x-b):.2e}, and is {norm(A@xKrylov-b.ravel()):.2e} for LSQR/CG\")\n",
        "\n",
        "# Let's redo the Krylov solver, asking for smaller residual\n",
        "xKrylov = sps.linalg.lsqr(A,b,atol=1e-12,btol=1e-12,iter_lim=int(1e5))[0]\n",
        "print(\"... and now re-solving with Krylov solver, for a tighter tolerance and more iterations ... \")\n",
        "print(f\"Residual ||Ax-b|| for dense solve is {norm(A@x-b):.2e}, and is {norm(A@xKrylov-b.ravel()):.2e} for LSQR/CG\")"
      ],
      "metadata": {
        "id": "wKeFvsCF_U4v",
        "outputId": "c883e6a0-b907-4296-8583-a34f70e73138",
        "colab": {
          "base_uri": "https://localhost:8080/"
        }
      },
      "execution_count": 10,
      "outputs": [
        {
          "output_type": "stream",
          "name": "stdout",
          "text": [
            "Discrepancy in the two solutions is 3.36e-05\n",
            "Residual ||Ax-b|| for dense solve is 1.24e-15, and is 3.43e-05 for LSQR/CG\n",
            "... and now re-solving with Krylov solver, for a tighter tolerance and more iterations ... \n",
            "Residual ||Ax-b|| for dense solve is 1.24e-15, and is 1.18e-11 for LSQR/CG\n"
          ]
        }
      ]
    },
    {
      "cell_type": "code",
      "source": [
        "# Be careful with some bugs!\n",
        "print( norm( b - b) )\n",
        "print( norm( b - b.ravel() ) )"
      ],
      "metadata": {
        "id": "hrghQN_CDKtV",
        "outputId": "952b9d63-5427-43bb-d8e2-f519a1118a30",
        "colab": {
          "base_uri": "https://localhost:8080/"
        }
      },
      "execution_count": 11,
      "outputs": [
        {
          "output_type": "stream",
          "name": "stdout",
          "text": [
            "0.0\n",
            "16.27126842092771\n"
          ]
        }
      ]
    },
    {
      "cell_type": "markdown",
      "metadata": {
        "id": "ujlC5sjchAce"
      },
      "source": [
        "# Larger example"
      ]
    },
    {
      "cell_type": "code",
      "metadata": {
        "colab": {
          "base_uri": "https://localhost:8080/"
        },
        "id": "6wefUZYyf6Yf",
        "outputId": "c5d5ae3d-a3d3-426e-e682-a2493cd78f39"
      },
      "source": [
        "n   = int(5e3)\n",
        "rng   = np.random.default_rng(1)\n",
        "A   = sps.random(n,n,density=0.01,format='csr',random_state=rng) + 10*sps.eye(n)\n",
        "b   = rng.normal(size=(n,1))\n",
        "\n",
        "print(\"Doing dense direct version\")\n",
        "tic = time.perf_counter()\n",
        "x = sla.solve(A.toarray(),b)\n",
        "toc_dense = time.perf_counter() - tic\n",
        "\n",
        "print(\"Doing sparse direct version\")\n",
        "tic = time.perf_counter()\n",
        "x = sps.linalg.spsolve(A,b)\n",
        "toc_direct = time.perf_counter() - tic\n",
        "\n",
        "print('Now doing sparse Krylov version')\n",
        "tic = time.perf_counter()\n",
        "xCG = sps.linalg.lsqr(A,b)[0] # nice and fast\n",
        "toc_sparse = time.perf_counter() - tic\n",
        "\n",
        "e = norm(x.ravel()-xCG.ravel())\n",
        "print(f\"n x n matrix with n={n:d}\")\n",
        "print(f\"Took {toc_dense:.2f} sec for direct dense version (Gaussian elimination...)\")\n",
        "print(f\"Took {toc_direct:.2f} sec for direct sparse version (sparse Gaussian elimination...)\")\n",
        "print(f\"Took {toc_sparse:.2f} sec for sparse version (CG, LSQR, ...)\")\n",
        "print(f\"Difference between versions {e:.1e}\")"
      ],
      "execution_count": 14,
      "outputs": [
        {
          "output_type": "stream",
          "name": "stdout",
          "text": [
            "Doing dense direct version\n",
            "Doing sparse direct version\n",
            "Now doing sparse version\n",
            "n x n matrix with n=5000\n",
            "Took 6.56 sec for direct dense version (Gaussian elimination...)\n",
            "Took 15.97 sec for direct sparse version (sparse Gaussian elimination...)\n",
            "Took 0.02 sec for sparse version (CG, LSQR, ...)\n",
            "Difference between versions 8.1e-05\n"
          ]
        }
      ]
    },
    {
      "cell_type": "code",
      "metadata": {
        "id": "y-mJz97ghqJ-"
      },
      "source": [],
      "execution_count": null,
      "outputs": []
    }
  ]
}