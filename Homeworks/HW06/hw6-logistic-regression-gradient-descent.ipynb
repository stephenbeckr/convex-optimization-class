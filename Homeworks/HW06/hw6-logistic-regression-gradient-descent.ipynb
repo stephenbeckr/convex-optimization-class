{
 "cells": [
  {
   "cell_type": "markdown",
   "metadata": {},
   "source": [
    "# Python code for APPM 4720/5720, HW 6, Logistic Regression"
   ]
  },
  {
   "cell_type": "code",
   "execution_count": 56,
   "metadata": {},
   "outputs": [],
   "source": [
    "import cvxpy as cp\n",
    "import numpy as np"
   ]
  },
  {
   "cell_type": "code",
   "execution_count": 58,
   "metadata": {},
   "outputs": [],
   "source": [
    "def l_w(w, y, X):\n",
    "    return np.sum(np.log(1 + np.exp(-y * (X @ w))))\n",
    "\n",
    "# an alternative (from Grant Baker's code)\n",
    "def logOnePlusExp(a):\n",
    "    if a > 10**50:\n",
    "        return np.log(exp(a)*(1+np.exp(-a)))\n",
    "    elif a < -3:\n",
    "        return np.log1p(np.exp(a))\n",
    "    else:\n",
    "        return np.log(1+np.exp(a))\n",
    "def l_w(w, y, X):\n",
    "    return np.sum( np.vectorize(logOnePlusExp)(-y * (X @ w)))\n",
    "    \n",
    "\n",
    "def sigma(a):\n",
    "    return 1/(1 + np.exp(-a))\n",
    "\n",
    "def make_mu(y, w, X):\n",
    "    return sigma(y * (w @ X.T))\n",
    "\n",
    "def grad_l(X, y, w):\n",
    "    mu = make_mu(y, w, X)\n",
    "    return -X.T @ (y * (1 - mu)).flatten()"
   ]
  },
  {
   "cell_type": "code",
   "execution_count": 59,
   "metadata": {},
   "outputs": [],
   "source": [
    "# There's not much point in running this, since it's just objectively worse than the one above,\n",
    "# but it was easier for me to reason about and helped check that the grad_l above is implemented correctly\n",
    "\n",
    "def slow_grad_l(X, y, w):\n",
    "    i = 0\n",
    "    running = sigma(-y[i] * (w @ X[i, ])) * y[i] * X[i, ]\n",
    "    for i in range(1, y.shape[0]):\n",
    "        running += sigma(-y[i] * (w @ X[i, ])) * y[i] * X[i, ]\n",
    "    \n",
    "    return -running"
   ]
  },
  {
   "cell_type": "code",
   "execution_count": 60,
   "metadata": {},
   "outputs": [],
   "source": [
    "def finite_diff(f, grad_f, x_0, h=1e-6):\n",
    "    g = []\n",
    "    \n",
    "    for i in range(len(x_0)):\n",
    "        h_i = np.zeros(len(x_0))\n",
    "        h_i[i] = h\n",
    "        \n",
    "        g.append((f(x_0 + h_i) - f(x_0)) / h)\n",
    "    \n",
    "    g = np.array(g)\n",
    "    \n",
    "    return np.mean(g - grad_f(x_0))\n",
    "\n",
    "def finite_diff_centered(f, grad_f, x_0, h=1e-6):\n",
    "    g = []\n",
    "    \n",
    "    for i in range(len(x_0)):\n",
    "        h_i = np.zeros(len(x_0))\n",
    "        h_i[i] = h\n",
    "        \n",
    "        g.append((f(x_0 + h_i) - f(x_0 - h_i)) / (2*h))\n",
    "    \n",
    "    g = np.array(g)\n",
    "    \n",
    "    return np.mean(g - grad_f(x_0))\n",
    "\n",
    "def taylor_remainder_test(f, grad_f, x_0, delta=1, h=1e-6):\n",
    "    x_1 = x_0 + delta\n",
    "    first_order = np.abs(f(x_0) - f(x_0 + h*x_1)).mean()\n",
    "    second_order = np.abs(f(x_0) + np.dot(grad_f(x_0), h*x_1) - f(x_0 + h*x_1)).mean()\n",
    "    \n",
    "    return first_order, second_order"
   ]
  },
  {
   "cell_type": "markdown",
   "metadata": {},
   "source": [
    "Just running a few toy examples to make sure it works."
   ]
  },
  {
   "cell_type": "code",
   "execution_count": 61,
   "metadata": {},
   "outputs": [
    {
     "data": {
      "text/plain": [
       "-4.526227712631226e-06"
      ]
     },
     "execution_count": 61,
     "metadata": {},
     "output_type": "execute_result"
    }
   ],
   "source": [
    "finite_diff(lambda x: 0.5*np.linalg.norm(x)**2, lambda x: x, x_0 = np.array([1, 2, 3, 4, 5, 700]))"
   ]
  },
  {
   "cell_type": "code",
   "execution_count": 62,
   "metadata": {},
   "outputs": [
    {
     "data": {
      "text/plain": [
       "-6.9515469173590345e-06"
      ]
     },
     "execution_count": 62,
     "metadata": {},
     "output_type": "execute_result"
    }
   ],
   "source": [
    "finite_diff_centered(lambda x: 0.5*np.linalg.norm(x)**2, lambda x: x, x_0 = np.array([1, 2, 3, 4, 5, 700]))"
   ]
  },
  {
   "cell_type": "code",
   "execution_count": 63,
   "metadata": {},
   "outputs": [
    {
     "data": {
      "text/plain": [
       "(0.4907702458149288, 2.4581095203757286e-07)"
      ]
     },
     "execution_count": 63,
     "metadata": {},
     "output_type": "execute_result"
    }
   ],
   "source": [
    "taylor_remainder_test(lambda x: 0.5*np.linalg.norm(x)**2, lambda x: x, x_0 = np.array([1, 2, 3, 4, 5, 700]))"
   ]
  },
  {
   "cell_type": "code",
   "execution_count": 64,
   "metadata": {},
   "outputs": [],
   "source": [
    "def gradient_check(f, grad_f, x_0):\n",
    "    for i in range(12):\n",
    "        h = 10**(-i)\n",
    "        \n",
    "        result = finite_diff(f, grad_f, x_0, h = h)\n",
    "        result2 = finite_diff_centered(f, grad_f, x_0, h=h)\n",
    "        \n",
    "        print(h, result, result2)"
   ]
  },
  {
   "cell_type": "code",
   "execution_count": 65,
   "metadata": {},
   "outputs": [
    {
     "name": "stdout",
     "output_type": "stream",
     "text": [
      "h, fd, fdc\n",
      "1 0.5000000000000101 -2.0301221021717147e-15\n",
      "0.1 0.05000000000017784 0.0\n",
      "0.01 0.005000000001505863 2.2331343123888862e-13\n",
      "0.001 0.0005000000124612468 -1.5022903556070689e-12\n",
      "0.0001 5.000016504449637e-05 3.573014899822218e-12\n",
      "1e-05 5.000559732325018e-06 -1.385360715033812e-10\n",
      "1e-06 5.111477158996942e-07 -4.4305384757795506e-10\n",
      "1e-07 2.3099086579999755e-07 7.677434561108904e-09\n",
      "1e-08 1.124244590755552e-06 -1.9533477565606257e-07\n",
      "1e-09 1.2086903942482813e-05 -4.154072875017789e-06\n",
      "1e-10 8.923154382500798e-05 -3.257578230529491e-05\n",
      "1e-11 0.0016118231204537941 0.00029224375404217947\n"
     ]
    }
   ],
   "source": [
    "print('h, fd, fdc')\n",
    "gradient_check(lambda x: 0.5*np.linalg.norm(x)**2, lambda x: x, x_0 = np.array([2, 3, 4, 5, 6, 7, 8]))"
   ]
  },
  {
   "cell_type": "markdown",
   "metadata": {},
   "source": [
    "## Gradient descent and line search"
   ]
  },
  {
   "cell_type": "code",
   "execution_count": 66,
   "metadata": {},
   "outputs": [],
   "source": [
    "def armijo_linesearch(f, grad_f, x_k, t=0.1):\n",
    "    p_k = - grad_f(x_k) # for gradient descent, p_k comes from grad_f\n",
    "    ro = 0.9\n",
    "    c = 1e-4\n",
    "    \n",
    "    while (f(x_k + t*p_k) > f(x_k) + c*t*np.dot(grad_f(x_k), p_k)).all():\n",
    "        t = ro*t\n",
    "    \n",
    "    return t\n",
    "\n",
    "def gradient_descent(f, grad_f, x_0=0, threshold=1e-4, max_iter=1e10, calc_progress=False):\n",
    "    x = x_0\n",
    "    grad = grad_f(x)\n",
    "    t = 0.1\n",
    "    i = 0\n",
    "    \n",
    "    progress = []\n",
    "    progress_test = []\n",
    "    \n",
    "    while np.linalg.norm(grad) > threshold:\n",
    "        t = armijo_linesearch(f, grad_f, x, t*2)\n",
    "        \n",
    "        x = x - t*grad\n",
    "        grad = grad_f(x)\n",
    "        i += 1\n",
    "        \n",
    "        # So this method closes over these variables defined BELOW this block to save the progress of the spam run...\n",
    "        # Super hacky!\n",
    "        if i % 20 == 0 and calc_progress:\n",
    "            score = ((np.floor(sigma(a=Xtrain @ x)*2)*2 - 1) == Ytrain).sum() / Xtrain.shape[0]\n",
    "            testscore = ((np.floor(sigma(a=Xtest @ x)*2)*2 - 1) == Ytest).sum() / Xtest.shape[0]\n",
    "\n",
    "            progress.append(score)\n",
    "            progress_test.append(testscore)\n",
    "        \n",
    "        if i > max_iter:\n",
    "            print(\"Max iterations reached.\")\n",
    "            return x, progress, progress_test\n",
    "    \n",
    "    print(\"Total iterations:\", i)\n",
    "    return x, progress, progress_test"
   ]
  },
  {
   "cell_type": "code",
   "execution_count": 67,
   "metadata": {
    "scrolled": false
   },
   "outputs": [
    {
     "name": "stdout",
     "output_type": "stream",
     "text": [
      "Total iterations: 92\n"
     ]
    },
    {
     "data": {
      "text/plain": [
       "(array([-1.99996908, -1.99996467]), [], [])"
      ]
     },
     "execution_count": 67,
     "metadata": {},
     "output_type": "execute_result"
    }
   ],
   "source": [
    "# toy example of this running\n",
    "\n",
    "gradient_descent(lambda x: (x + 2)**2, lambda x: 2*x + 4, x_0 = np.array([5, 6]))"
   ]
  },
  {
   "cell_type": "markdown",
   "metadata": {},
   "source": [
    "## Problem 3 (Analytical test that the gradient descent works)"
   ]
  },
  {
   "cell_type": "code",
   "execution_count": 68,
   "metadata": {},
   "outputs": [],
   "source": [
    "y = np.random.choice([-1, 1], size=100)"
   ]
  },
  {
   "cell_type": "code",
   "execution_count": 69,
   "metadata": {},
   "outputs": [
    {
     "data": {
      "text/plain": [
       "array([1.6, 2.6, 3.6, 4.6])"
      ]
     },
     "execution_count": 69,
     "metadata": {},
     "output_type": "execute_result"
    }
   ],
   "source": [
    "A = np.array([[1, 0, 0, 0],\n",
    "            [0, 1, 0, 0],\n",
    "            [0, 0, 1, 0],\n",
    "            [0, 0 ,0 , 1],\n",
    "            [1, 1, 1, 1]])\n",
    "\n",
    "b = np.array([5, 6, 7, 8, 9])\n",
    "\n",
    "ground_truth = np.linalg.inv(A.T @ A) @ A.T @ b\n",
    "ground_truth"
   ]
  },
  {
   "cell_type": "code",
   "execution_count": 70,
   "metadata": {},
   "outputs": [
    {
     "name": "stdout",
     "output_type": "stream",
     "text": [
      "Max iterations reached.\n"
     ]
    },
    {
     "data": {
      "text/plain": [
       "(array([1.6, 2.6, 3.6, 4.6]), [], [])"
      ]
     },
     "execution_count": 70,
     "metadata": {},
     "output_type": "execute_result"
    }
   ],
   "source": [
    "f = lambda x: 0.5 * np.linalg.norm(A@x - b)**2\n",
    "grad_f = lambda x: 2*A.T@A@x -2*A.T@b\n",
    "x_0 = np.array([1, 2, 3, 4])\n",
    "               \n",
    "gradient_descent(f, grad_f, x_0 = x_0, max_iter=1000, threshold=1e-100)"
   ]
  },
  {
   "cell_type": "code",
   "execution_count": 71,
   "metadata": {},
   "outputs": [
    {
     "name": "stdout",
     "output_type": "stream",
     "text": [
      "Max iterations reached.\n",
      "Max iterations reached.\n",
      "Max iterations reached.\n",
      "Max iterations reached.\n",
      "Max iterations reached.\n",
      "Max iterations reached.\n",
      "Max iterations reached.\n",
      "Max iterations reached.\n",
      "Max iterations reached.\n",
      "Max iterations reached.\n"
     ]
    }
   ],
   "source": [
    "errs = []\n",
    "for i in np.arange(0, 200, 20):\n",
    "    errs.append((gradient_descent(f, grad_f, x_0 = x_0, max_iter=i, threshold=1e-100)[0] - ground_truth)[0])"
   ]
  },
  {
   "cell_type": "code",
   "execution_count": 72,
   "metadata": {},
   "outputs": [
    {
     "name": "stderr",
     "output_type": "stream",
     "text": [
      "/home/sam/math/convex/venv/lib/python3.5/site-packages/ipykernel_launcher.py:7: RuntimeWarning: invalid value encountered in log\n",
      "  import sys\n"
     ]
    },
    {
     "data": {
      "text/plain": [
       "[<matplotlib.lines.Line2D at 0x7f9ae3eb3e10>]"
      ]
     },
     "execution_count": 72,
     "metadata": {},
     "output_type": "execute_result"
    },
    {
     "data": {
      "image/png": "[encoded data removed]",
      "text/plain": [
       "<Figure size 432x288 with 1 Axes>"
      ]
     },
     "metadata": {
      "needs_background": "light"
     },
     "output_type": "display_data"
    }
   ],
   "source": [
    "import matplotlib.pyplot as plt\n",
    "%matplotlib inline\n",
    "\n",
    "plt.xlabel('Iterations')\n",
    "plt.ylabel('Log error')\n",
    "plt.suptitle('Log error of gradient descent given maximum iterations')\n",
    "plt.plot(20 * np.arange(10), np.log(errs), marker='o')"
   ]
  },
  {
   "cell_type": "markdown",
   "metadata": {},
   "source": [
    "# Loading and classifying the spam data"
   ]
  },
  {
   "cell_type": "code",
   "execution_count": 73,
   "metadata": {},
   "outputs": [],
   "source": [
    "# logistic regression\n",
    "import scipy.io\n",
    "import pandas as pd\n",
    "\n",
    "spam_data = scipy.io.loadmat('../data/spamData.mat')"
   ]
  },
  {
   "cell_type": "code",
   "execution_count": 74,
   "metadata": {},
   "outputs": [],
   "source": [
    "Xtrain = np.log(spam_data['Xtrain'] + 0.1)\n",
    "Ytrain = spam_data['ytrain'].flatten()\n",
    "Xtest = np.log(spam_data['Xtest'] + 0.1)\n",
    "Ytest = spam_data['ytest'].flatten()\n",
    "\n",
    "Ytrain.dtype = 'int8'\n",
    "Ytest.dtype = 'int8'\n",
    "\n",
    "Ytrain = Ytrain*2 - 1\n",
    "Ytest = Ytest*2 - 1"
   ]
  },
  {
   "cell_type": "code",
   "execution_count": 75,
   "metadata": {},
   "outputs": [
    {
     "data": {
      "text/plain": [
       "((3065, 57), (3065,), (1536, 57), (1536,))"
      ]
     },
     "execution_count": 75,
     "metadata": {},
     "output_type": "execute_result"
    }
   ],
   "source": [
    "Xtrain.shape, Ytrain.shape, Xtest.shape, Ytest.shape"
   ]
  },
  {
   "cell_type": "code",
   "execution_count": 76,
   "metadata": {},
   "outputs": [],
   "source": [
    "# Bake (\"curry\") the other variables in, since the way I wrote the solver it requires the function to only take one\n",
    "# variable\n",
    "\n",
    "l_w_spam_train = lambda w: l_w(X=Xtrain, y=Ytrain, w=w)\n",
    "grad_l_spam_train = lambda w: grad_l(X=Xtrain, y=Ytrain, w=w)"
   ]
  },
  {
   "cell_type": "code",
   "execution_count": 77,
   "metadata": {},
   "outputs": [
    {
     "data": {
      "text/plain": [
       "(0.03839755555509328, 3.7005393096478656e-06)"
      ]
     },
     "execution_count": 77,
     "metadata": {},
     "output_type": "execute_result"
    }
   ],
   "source": [
    "taylor_remainder_test(l_w_spam_train, grad_l_spam_train, x_0 = np.zeros(57))"
   ]
  },
  {
   "cell_type": "code",
   "execution_count": 78,
   "metadata": {},
   "outputs": [
    {
     "name": "stderr",
     "output_type": "stream",
     "text": [
      "/home/sam/math/convex/venv/lib/python3.5/site-packages/ipykernel_launcher.py:2: RuntimeWarning: overflow encountered in exp\n",
      "  \n"
     ]
    },
    {
     "name": "stdout",
     "output_type": "stream",
     "text": [
      "Max iterations reached.\n"
     ]
    }
   ],
   "source": [
    "found_w, progress, progress_test = gradient_descent(l_w_spam_train, grad_l_spam_train, x_0=np.zeros(57), max_iter=1000, calc_progress=True)"
   ]
  },
  {
   "cell_type": "code",
   "execution_count": 79,
   "metadata": {},
   "outputs": [
    {
     "data": {
      "text/plain": [
       "<matplotlib.legend.Legend at 0x7f9ae3e22c50>"
      ]
     },
     "execution_count": 79,
     "metadata": {},
     "output_type": "execute_result"
    },
    {
     "data": {
      "image/png": "[encoded data removed]",
      "text/plain": [
       "<Figure size 432x288 with 1 Axes>"
      ]
     },
     "metadata": {
      "needs_background": "light"
     },
     "output_type": "display_data"
    }
   ],
   "source": [
    "plt.plot(np.arange(1000/20)*20, 1 - np.array(progress), label='Train')\n",
    "plt.plot(np.arange(1000/20)*20, 1 - np.array(progress_test), label='Test')\n",
    "\n",
    "plt.xlabel('Iterations')\n",
    "plt.ylabel('Misclassification rate')\n",
    "\n",
    "plt.suptitle('Spam classification: misclassification rates by iteration')\n",
    "plt.legend()"
   ]
  }
 ],
 "metadata": {
  "kernelspec": {
   "display_name": "Python 3",
   "language": "python",
   "name": "python3"
  },
  "language_info": {
   "codemirror_mode": {
    "name": "ipython",
    "version": 3
   },
   "file_extension": ".py",
   "mimetype": "text/x-python",
   "name": "python",
   "nbconvert_exporter": "python",
   "pygments_lexer": "ipython3",
   "version": "3.7.0"
  }
 },
 "nbformat": 4,
 "nbformat_minor": 2
}
